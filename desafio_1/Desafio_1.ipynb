{
  "cells": [
    {
      "cell_type": "markdown",
      "metadata": {
        "id": "zq6j8LsYq1Dr"
      },
      "source": [
        "### Vectorización de texto y modelo de clasificación Naïve Bayes con el dataset 20 newsgroups"
      ]
    },
    {
      "cell_type": "code",
      "execution_count": 1,
      "metadata": {
        "id": "l7cXR6CI30ry"
      },
      "outputs": [],
      "source": [
        "from sklearn.feature_extraction.text import CountVectorizer, TfidfVectorizer\n",
        "from sklearn.metrics.pairwise import cosine_similarity\n",
        "from sklearn.naive_bayes import MultinomialNB, ComplementNB\n",
        "from sklearn.metrics import f1_score\n",
        "\n",
        "# 20newsgroups por ser un dataset clásico de NLP ya viene incluido y formateado\n",
        "# en sklearn\n",
        "from sklearn.datasets import fetch_20newsgroups\n",
        "import numpy as np"
      ]
    },
    {
      "cell_type": "markdown",
      "metadata": {
        "id": "yD-pVDWV_rQc"
      },
      "source": [
        "## Carga de datos"
      ]
    },
    {
      "cell_type": "code",
      "execution_count": 2,
      "metadata": {
        "id": "Ech9qJaUo9vK"
      },
      "outputs": [],
      "source": [
        "# cargamos los datos (ya separados de forma predeterminada en train y test)\n",
        "newsgroups_train = fetch_20newsgroups(subset='train', remove=('headers', 'footers', 'quotes'))\n",
        "newsgroups_test = fetch_20newsgroups(subset='test', remove=('headers', 'footers', 'quotes'))"
      ]
    },
    {
      "cell_type": "markdown",
      "metadata": {
        "id": "UxjSI7su_uWI"
      },
      "source": [
        "## Vectorización"
      ]
    },
    {
      "cell_type": "code",
      "execution_count": 3,
      "metadata": {
        "id": "-94VP0QYCzDn"
      },
      "outputs": [],
      "source": [
        "# instanciamos un vectorizador\n",
        "# ver diferentes parámetros de instanciación en la documentación de sklearn\n",
        "tfidfvect = TfidfVectorizer()"
      ]
    },
    {
      "cell_type": "code",
      "execution_count": 4,
      "metadata": {
        "colab": {
          "base_uri": "https://localhost:8080/",
          "height": 53
        },
        "id": "ftPlyanuak8n",
        "outputId": "6ade683d-23f6-47d8-c6b7-0309c22aaac7"
      },
      "outputs": [
        {
          "output_type": "execute_result",
          "data": {
            "text/plain": [
              "'I was wondering if anyone out there could enlighten me on this car I saw\\nthe other day. It was a 2-door sports car, looked to be from the late 60s/\\nearly 70s. It was called a Bricklin. The doors were really small. In addition,\\nthe front bumper was separate from the rest of the body. This is \\nall I know. If anyone can tellme a model name, engine specs, years\\nof production, where this car is made, history, or whatever info you\\nhave on this funky looking car, please e-mail.'"
            ],
            "application/vnd.google.colaboratory.intrinsic+json": {
              "type": "string"
            }
          },
          "metadata": {},
          "execution_count": 4
        }
      ],
      "source": [
        "# en el atributo `data` accedemos al texto\n",
        "newsgroups_train.data[0]"
      ]
    },
    {
      "cell_type": "code",
      "execution_count": 5,
      "metadata": {
        "id": "1zxcXV6aC_oL"
      },
      "outputs": [],
      "source": [
        "# con la interfaz habitual de sklearn podemos fitear el vectorizador\n",
        "# (obtener el vocabulario y calcular el vector IDF)\n",
        "# y transformar directamente los datos\n",
        "X_train = tfidfvect.fit_transform(newsgroups_train.data)\n",
        "# `X_train` la podemos denominar como la matriz documento-término"
      ]
    },
    {
      "cell_type": "code",
      "execution_count": 6,
      "metadata": {
        "colab": {
          "base_uri": "https://localhost:8080/"
        },
        "id": "4Sv7TXbda41-",
        "outputId": "24656c51-30f5-4755-df26-e4276c70f45f"
      },
      "outputs": [
        {
          "output_type": "stream",
          "name": "stdout",
          "text": [
            "<class 'scipy.sparse._csr.csr_matrix'>\n",
            "shape: (11314, 101631)\n",
            "cantidad de documentos: 11314\n",
            "tamaño del vocabulario (dimensionalidad de los vectores): 101631\n"
          ]
        }
      ],
      "source": [
        "# recordar que las vectorizaciones por conteos son esparsas\n",
        "# por ello sklearn convenientemente devuelve los vectores de documentos\n",
        "# como matrices esparsas\n",
        "print(type(X_train))\n",
        "print(f'shape: {X_train.shape}')\n",
        "print(f'cantidad de documentos: {X_train.shape[0]}')\n",
        "print(f'tamaño del vocabulario (dimensionalidad de los vectores): {X_train.shape[1]}')"
      ]
    },
    {
      "cell_type": "code",
      "execution_count": 7,
      "metadata": {
        "colab": {
          "base_uri": "https://localhost:8080/"
        },
        "id": "dgydNTZ2pAgR",
        "outputId": "49c79421-098d-44dd-c410-49c28ea45ff7"
      },
      "outputs": [
        {
          "output_type": "execute_result",
          "data": {
            "text/plain": [
              "25775"
            ]
          },
          "metadata": {},
          "execution_count": 7
        }
      ],
      "source": [
        "# una vez fiteado el vectorizador, podemos acceder a atributos como el vocabulario\n",
        "# aprendido. Es un diccionario que va de términos a índices.\n",
        "# El índice es la posición en el vector de documento.\n",
        "tfidfvect.vocabulary_['car']"
      ]
    },
    {
      "cell_type": "code",
      "execution_count": 8,
      "metadata": {
        "id": "xnTSZuvyrTcP"
      },
      "outputs": [],
      "source": [
        "# es muy útil tener el diccionario opuesto que va de índices a términos\n",
        "idx2word = {v: k for k,v in tfidfvect.vocabulary_.items()}"
      ]
    },
    {
      "cell_type": "code",
      "execution_count": 9,
      "metadata": {
        "colab": {
          "base_uri": "https://localhost:8080/"
        },
        "id": "swa-AgWrMSHM",
        "outputId": "2e6294e2-a4ef-4947-d139-8ded2ff18bde"
      },
      "outputs": [
        {
          "output_type": "execute_result",
          "data": {
            "text/plain": [
              "array([ 7,  4,  4,  1, 14, 16, 13,  3,  2,  4])"
            ]
          },
          "metadata": {},
          "execution_count": 9
        }
      ],
      "source": [
        "# en `y_train` guardamos los targets que son enteros\n",
        "y_train = newsgroups_train.target\n",
        "y_train[:10]"
      ]
    },
    {
      "cell_type": "code",
      "execution_count": 10,
      "metadata": {
        "colab": {
          "base_uri": "https://localhost:8080/"
        },
        "id": "je5kxvQMDLvf",
        "outputId": "4c4f9520-9c16-49c7-e379-ed550764af04"
      },
      "outputs": [
        {
          "output_type": "stream",
          "name": "stdout",
          "text": [
            "clases [ 0  1  2  3  4  5  6  7  8  9 10 11 12 13 14 15 16 17 18 19]\n"
          ]
        },
        {
          "output_type": "execute_result",
          "data": {
            "text/plain": [
              "['alt.atheism',\n",
              " 'comp.graphics',\n",
              " 'comp.os.ms-windows.misc',\n",
              " 'comp.sys.ibm.pc.hardware',\n",
              " 'comp.sys.mac.hardware',\n",
              " 'comp.windows.x',\n",
              " 'misc.forsale',\n",
              " 'rec.autos',\n",
              " 'rec.motorcycles',\n",
              " 'rec.sport.baseball',\n",
              " 'rec.sport.hockey',\n",
              " 'sci.crypt',\n",
              " 'sci.electronics',\n",
              " 'sci.med',\n",
              " 'sci.space',\n",
              " 'soc.religion.christian',\n",
              " 'talk.politics.guns',\n",
              " 'talk.politics.mideast',\n",
              " 'talk.politics.misc',\n",
              " 'talk.religion.misc']"
            ]
          },
          "metadata": {},
          "execution_count": 10
        }
      ],
      "source": [
        "# hay 20 clases correspondientes a los 20 grupos de noticias\n",
        "print(f'clases {np.unique(newsgroups_test.target)}')\n",
        "newsgroups_test.target_names"
      ]
    },
    {
      "cell_type": "markdown",
      "metadata": {
        "id": "SXCICFSd_y90"
      },
      "source": [
        "## Similaridad de documentos"
      ]
    },
    {
      "cell_type": "code",
      "execution_count": 11,
      "metadata": {
        "colab": {
          "base_uri": "https://localhost:8080/"
        },
        "id": "_pki_olShnyE",
        "outputId": "061f58b2-3482-48f0-fe47-26147ed1f651"
      },
      "outputs": [
        {
          "output_type": "stream",
          "name": "stdout",
          "text": [
            "THE WHITE HOUSE\n",
            "\n",
            "                  Office of the Press Secretary\n",
            "                   (Pittsburgh, Pennslyvania)\n",
            "______________________________________________________________\n",
            "For Immediate Release                         April 17, 1993     \n",
            "\n",
            "             \n",
            "                  RADIO ADDRESS TO THE NATION \n",
            "                        BY THE PRESIDENT\n",
            "             \n",
            "                Pittsburgh International Airport\n",
            "                    Pittsburgh, Pennsylvania\n",
            "             \n",
            "             \n",
            "10:06 A.M. EDT\n",
            "             \n",
            "             \n",
            "             THE PRESIDENT:  Good morning.  My voice is coming to\n",
            "you this morning through the facilities of the oldest radio\n",
            "station in America, KDKA in Pittsburgh.  I'm visiting the city to\n",
            "meet personally with citizens here to discuss my plans for jobs,\n",
            "health care and the economy.  But I wanted first to do my weekly\n",
            "broadcast with the American people. \n",
            "             \n",
            "             I'm told this station first broadcast in 1920 when\n",
            "it reported that year's presidential elections.  Over the past\n",
            "seven decades presidents have found ways to keep in touch with\n",
            "the people, from whistle-stop tours to fire-side chats to the bus\n",
            "tour that I adopted, along with Vice President Gore, in last\n",
            "year's campaign.\n",
            "             \n",
            "             Every Saturday morning I take this time to talk with\n",
            "you, my fellow Americans, about the problems on your minds and\n",
            "what I'm doing to try and solve them.  It's my way of reporting\n",
            "to you and of giving you a way to hold me accountable.\n",
            "             \n",
            "             You sent me to Washington to get our government and\n",
            "economy moving after years of paralysis and policy and a bad\n",
            "experiment with trickle-down economics.  You know how important\n",
            "it is for us to make bold, comprehensive changes in the way we do\n",
            "business.  \n",
            "             \n",
            "             We live in a competitive global economy.  Nations\n",
            "rise and fall on the skills of their workers, the competitiveness\n",
            "of their companies, the imagination of their industries, and the\n",
            "cooperative experience and spirit that exists between business,\n",
            "labor and government.  Although many of the economies of the\n",
            "industrialized world are now suffering from slow growth, they've\n",
            "made many of the smart investments and the tough choices which\n",
            "our government has for too long ignored.  That's why many of them\n",
            "have been moving ahead and too many of our people have been\n",
            "falling behind.\n",
            "             \n",
            "             We have an economy today that even when it grows is\n",
            "not producing new jobs.  We've increased the debt of our nation\n",
            "by four times over the last 12 years, and we don't have much to\n",
            "show for it.  We know that wages of most working people have\n",
            "stopped rising, that most people are working longer work weeks\n",
            "and that too many families can no longer afford the escalating\n",
            "cost of health care.\n",
            "             \n",
            "             But we also know that, given the right tools, the\n",
            "right incentives and the right encouragement, our workers and\n",
            "businesses can make the kinds of products and profits our economy\n",
            "needs to expand opportunity and to make our communities better\n",
            "places to live.\n",
            "             \n",
            "             In many critical products today Americans are the\n",
            "low cost, high quality producers.  Our task is to make sure that\n",
            "we create more of those kinds of jobs.\n",
            "             \n",
            "             Just two months ago I gave Congress my plan for\n",
            "long-term jobs and economic growth.  It changes the old\n",
            "priorities in Washington and puts our emphasis where it needs to\n",
            "be -- on people's real needs, on increasing investments and jobs\n",
            "and education, on cutting the federal deficit, on stopping the\n",
            "waste which pays no dividends, and redirecting our precious\n",
            "resources toward investment that creates jobs now and lays the\n",
            "groundwork for robust economic growth in the future.\n",
            "             \n",
            "             These new directions passed the Congress in record\n",
            "time and created a new sense of hope and opportunity in our\n",
            "country.  Then the jobs plan I presented to Congress, which would\n",
            "create hundreds of thousands of jobs, most of them in the private\n",
            "sector in 1993 and 1994, passed the House of Representatives.  It\n",
            "now has the support of a majority of the United States Senate. \n",
            "But it's been held up by a filibuster of a minority in the\n",
            "Senate, just 43 senators.  They blocked a vote that they know\n",
            "would result in the passage of our bill and the creation of jobs.\n",
            "             \n",
            "             The issue isn't politics; the issue is people. \n",
            "Millions of Americans are waiting for this legislation and\n",
            "counting on it, counting on us in Washington.  But the jobs bill\n",
            "has been grounded by gridlock.  \n",
            "             \n",
            "             I know the American people are tired of business as\n",
            "usual and politics as usual.  I know they don't want us to spin\n",
            "or wheels.  They want the recovery to get moving.  So I have\n",
            "taken a first step to break this gridlock and gone the extra\n",
            "mile.  Yesterday I offered to cut the size of this plan by 25\n",
            "percent -- from $16 billion to $12 billion.  \n",
            "             \n",
            "             It's not what I'd hoped for.  With 16 million\n",
            "Americans looking for full-time work, I simply can't let the bill\n",
            "languish when I know that even a compromise bill will mean\n",
            "hundreds of thousands of jobs for our people.  The mandate is to\n",
            "act to achieve change and move the country forward.  By taking\n",
            "this initiative in the face of an unrelenting Senate talkathon, I\n",
            "think we can respond to your mandate and achieve a significant\n",
            "portion of our original goals.\n",
            "             \n",
            "             First, we want to keep the programs as much as\n",
            "possible that are needed to generate jobs and meet human needs,\n",
            "including highway and road construction, summer jobs for young\n",
            "people, immunization for children, construction of waste water\n",
            "sites, and aid to small businesses.  We also want to keep funding\n",
            "for extended unemployment compensation benefits, for people who\n",
            "have been unemployed for a long time because the economy isn't\n",
            "creating jobs.\n",
            "             \n",
            "             Second, I've recommended that all the other programs\n",
            "in the bill be cut across-the-board by a little more than 40\n",
            "percent.\n",
            "             \n",
            "             And third, I've recommended a new element in this\n",
            "program to help us immediately start our attempt to fight against\n",
            "crime by providing $200 million for cities and towns to rehire\n",
            "police officers who lost their jobs during the recession and put\n",
            "them back to work protecting our people.  I'm also going to fight\n",
            "for a tough crime bill because the people of this country need it\n",
            "and deserve it.\n",
            "             \n",
            "             Now, the people who are filibustering this bill --\n",
            "the Republican senators -- say they won't vote for it because it\n",
            "increases deficit spending, because there's extra spending this\n",
            "year that hasn't already been approved.  That sounds reasonable,\n",
            "doesn't it?  Here's what they don't say.  This program is more\n",
            "than paid for by budget cuts over my five-year budget, and this\n",
            "budget is well within the spending limits already approved by the\n",
            "Congress this year.\n",
            "             \n",
            "             It's amazing to me that many of these same senators\n",
            "who are filibustering the bill voted during the previous\n",
            "administration for billions of dollars of the same kind of\n",
            "emergency spending, and much of it was not designed to put the\n",
            "American people to work.  \n",
            "             \n",
            "             This is not about deficit spending.  We have offered\n",
            "a plan to cut the deficit.  This is about where your priorities\n",
            "are -- on people or on politics.  \n",
            "             \n",
            "             Keep in mind that our jobs bill is paid for dollar\n",
            "for dollar.  It is paid for by budget cuts.  And it's the\n",
            "soundest investment we can now make for ourselves and our\n",
            "children.  I urge all Americans to take another look at this jobs\n",
            "and investment program; to consider again the benefits for all of\n",
            "us when we've helped make more American partners working to\n",
            "ensure the future of our nation and the strength of our economy.\n",
            "             \n",
            "             You know, if every American who wanted a job had\n",
            "one, we wouldn't have a lot of the other problems we have in this\n",
            "country today.  This bill is not a miracle, it's a modest first\n",
            "step to try to set off a job creation explosion in this country\n",
            "again.  But it's a step we ought to take.  And it is fully paid\n",
            "for over the life of our budget.\n",
            "             \n",
            "             Tell your lawmakers what you think.  Tell them how\n",
            "important the bill is.  If it passes, we'll all be winners.\n",
            "             \n",
            "             Good morning, and thank you for listening.\n"
          ]
        }
      ],
      "source": [
        "# Veamos similaridad de documentos. Tomemos algún documento\n",
        "idx = 4811\n",
        "print(newsgroups_train.data[idx])"
      ]
    },
    {
      "cell_type": "code",
      "execution_count": 12,
      "metadata": {
        "id": "Ssa9bqJ-hA_v"
      },
      "outputs": [],
      "source": [
        "# midamos la similaridad coseno con todos los documentos de train\n",
        "cossim = cosine_similarity(X_train[idx], X_train)[0]"
      ]
    },
    {
      "cell_type": "code",
      "execution_count": 13,
      "metadata": {
        "colab": {
          "base_uri": "https://localhost:8080/"
        },
        "id": "p_mDA7p3AzcQ",
        "outputId": "336019dd-a561-4be7-e6db-fe9f2a26fe21"
      },
      "outputs": [
        {
          "output_type": "execute_result",
          "data": {
            "text/plain": [
              "array([1.        , 0.70930477, 0.67474953, ..., 0.        , 0.        ,\n",
              "       0.        ])"
            ]
          },
          "metadata": {},
          "execution_count": 13
        }
      ],
      "source": [
        "# podemos ver los valores de similaridad ordenados de mayor a menos\n",
        "np.sort(cossim)[::-1]"
      ]
    },
    {
      "cell_type": "code",
      "execution_count": 14,
      "metadata": {
        "colab": {
          "base_uri": "https://localhost:8080/"
        },
        "id": "0OIhDA1jAryX",
        "outputId": "39b5b60d-8a8f-464a-b177-32b83ca344ef"
      },
      "outputs": [
        {
          "output_type": "execute_result",
          "data": {
            "text/plain": [
              "array([ 4811,  6635,  4253, ...,  1534, 10055,  4750])"
            ]
          },
          "metadata": {},
          "execution_count": 14
        }
      ],
      "source": [
        "# y a qué documentos corresponden\n",
        "np.argsort(cossim)[::-1]"
      ]
    },
    {
      "cell_type": "code",
      "execution_count": 15,
      "metadata": {
        "id": "hP7qLS4ZBLps"
      },
      "outputs": [],
      "source": [
        "# los 5 documentos más similares:\n",
        "mostsim = np.argsort(cossim)[::-1][1:6]"
      ]
    },
    {
      "cell_type": "code",
      "execution_count": 16,
      "metadata": {
        "colab": {
          "base_uri": "https://localhost:8080/",
          "height": 36
        },
        "id": "QdJLHPJACvaj",
        "outputId": "9aa71c45-c7fd-4078-c93e-59d7f28114c5"
      },
      "outputs": [
        {
          "output_type": "execute_result",
          "data": {
            "text/plain": [
              "'talk.politics.misc'"
            ],
            "application/vnd.google.colaboratory.intrinsic+json": {
              "type": "string"
            }
          },
          "metadata": {},
          "execution_count": 16
        }
      ],
      "source": [
        "# el documento original pertenece a la clase:\n",
        "newsgroups_train.target_names[y_train[idx]]"
      ]
    },
    {
      "cell_type": "code",
      "execution_count": 17,
      "metadata": {
        "colab": {
          "base_uri": "https://localhost:8080/"
        },
        "id": "RWy_73epCbFG",
        "outputId": "e8048acc-65fe-4cef-90a1-cd06344753dc"
      },
      "outputs": [
        {
          "output_type": "stream",
          "name": "stdout",
          "text": [
            "talk.politics.misc\n",
            "talk.politics.misc\n",
            "talk.politics.misc\n",
            "talk.politics.misc\n",
            "talk.politics.misc\n"
          ]
        }
      ],
      "source": [
        "# y los 5 más similares son de las clases:\n",
        "for i in mostsim:\n",
        "  print(newsgroups_train.target_names[y_train[i]])"
      ]
    },
    {
      "cell_type": "markdown",
      "metadata": {
        "id": "zRoNnKwhBqzq"
      },
      "source": [
        "### Modelo de clasificación Naïve Bayes"
      ]
    },
    {
      "cell_type": "code",
      "execution_count": 18,
      "metadata": {
        "colab": {
          "base_uri": "https://localhost:8080/",
          "height": 75
        },
        "id": "TPM0thDaLk0R",
        "outputId": "b13a562b-4f20-46ec-b0ff-ae2c8cd83392"
      },
      "outputs": [
        {
          "output_type": "execute_result",
          "data": {
            "text/plain": [
              "MultinomialNB()"
            ],
            "text/html": [
              "<style>#sk-container-id-1 {color: black;}#sk-container-id-1 pre{padding: 0;}#sk-container-id-1 div.sk-toggleable {background-color: white;}#sk-container-id-1 label.sk-toggleable__label {cursor: pointer;display: block;width: 100%;margin-bottom: 0;padding: 0.3em;box-sizing: border-box;text-align: center;}#sk-container-id-1 label.sk-toggleable__label-arrow:before {content: \"▸\";float: left;margin-right: 0.25em;color: #696969;}#sk-container-id-1 label.sk-toggleable__label-arrow:hover:before {color: black;}#sk-container-id-1 div.sk-estimator:hover label.sk-toggleable__label-arrow:before {color: black;}#sk-container-id-1 div.sk-toggleable__content {max-height: 0;max-width: 0;overflow: hidden;text-align: left;background-color: #f0f8ff;}#sk-container-id-1 div.sk-toggleable__content pre {margin: 0.2em;color: black;border-radius: 0.25em;background-color: #f0f8ff;}#sk-container-id-1 input.sk-toggleable__control:checked~div.sk-toggleable__content {max-height: 200px;max-width: 100%;overflow: auto;}#sk-container-id-1 input.sk-toggleable__control:checked~label.sk-toggleable__label-arrow:before {content: \"▾\";}#sk-container-id-1 div.sk-estimator input.sk-toggleable__control:checked~label.sk-toggleable__label {background-color: #d4ebff;}#sk-container-id-1 div.sk-label input.sk-toggleable__control:checked~label.sk-toggleable__label {background-color: #d4ebff;}#sk-container-id-1 input.sk-hidden--visually {border: 0;clip: rect(1px 1px 1px 1px);clip: rect(1px, 1px, 1px, 1px);height: 1px;margin: -1px;overflow: hidden;padding: 0;position: absolute;width: 1px;}#sk-container-id-1 div.sk-estimator {font-family: monospace;background-color: #f0f8ff;border: 1px dotted black;border-radius: 0.25em;box-sizing: border-box;margin-bottom: 0.5em;}#sk-container-id-1 div.sk-estimator:hover {background-color: #d4ebff;}#sk-container-id-1 div.sk-parallel-item::after {content: \"\";width: 100%;border-bottom: 1px solid gray;flex-grow: 1;}#sk-container-id-1 div.sk-label:hover label.sk-toggleable__label {background-color: #d4ebff;}#sk-container-id-1 div.sk-serial::before {content: \"\";position: absolute;border-left: 1px solid gray;box-sizing: border-box;top: 0;bottom: 0;left: 50%;z-index: 0;}#sk-container-id-1 div.sk-serial {display: flex;flex-direction: column;align-items: center;background-color: white;padding-right: 0.2em;padding-left: 0.2em;position: relative;}#sk-container-id-1 div.sk-item {position: relative;z-index: 1;}#sk-container-id-1 div.sk-parallel {display: flex;align-items: stretch;justify-content: center;background-color: white;position: relative;}#sk-container-id-1 div.sk-item::before, #sk-container-id-1 div.sk-parallel-item::before {content: \"\";position: absolute;border-left: 1px solid gray;box-sizing: border-box;top: 0;bottom: 0;left: 50%;z-index: -1;}#sk-container-id-1 div.sk-parallel-item {display: flex;flex-direction: column;z-index: 1;position: relative;background-color: white;}#sk-container-id-1 div.sk-parallel-item:first-child::after {align-self: flex-end;width: 50%;}#sk-container-id-1 div.sk-parallel-item:last-child::after {align-self: flex-start;width: 50%;}#sk-container-id-1 div.sk-parallel-item:only-child::after {width: 0;}#sk-container-id-1 div.sk-dashed-wrapped {border: 1px dashed gray;margin: 0 0.4em 0.5em 0.4em;box-sizing: border-box;padding-bottom: 0.4em;background-color: white;}#sk-container-id-1 div.sk-label label {font-family: monospace;font-weight: bold;display: inline-block;line-height: 1.2em;}#sk-container-id-1 div.sk-label-container {text-align: center;}#sk-container-id-1 div.sk-container {/* jupyter's `normalize.less` sets `[hidden] { display: none; }` but bootstrap.min.css set `[hidden] { display: none !important; }` so we also need the `!important` here to be able to override the default hidden behavior on the sphinx rendered scikit-learn.org. See: https://github.com/scikit-learn/scikit-learn/issues/21755 */display: inline-block !important;position: relative;}#sk-container-id-1 div.sk-text-repr-fallback {display: none;}</style><div id=\"sk-container-id-1\" class=\"sk-top-container\"><div class=\"sk-text-repr-fallback\"><pre>MultinomialNB()</pre><b>In a Jupyter environment, please rerun this cell to show the HTML representation or trust the notebook. <br />On GitHub, the HTML representation is unable to render, please try loading this page with nbviewer.org.</b></div><div class=\"sk-container\" hidden><div class=\"sk-item\"><div class=\"sk-estimator sk-toggleable\"><input class=\"sk-toggleable__control sk-hidden--visually\" id=\"sk-estimator-id-1\" type=\"checkbox\" checked><label for=\"sk-estimator-id-1\" class=\"sk-toggleable__label sk-toggleable__label-arrow\">MultinomialNB</label><div class=\"sk-toggleable__content\"><pre>MultinomialNB()</pre></div></div></div></div></div>"
            ]
          },
          "metadata": {},
          "execution_count": 18
        }
      ],
      "source": [
        "# es muy fácil instanciar un modelo de clasificación Naïve Bayes y entrenarlo con sklearn\n",
        "clf = MultinomialNB()\n",
        "clf.fit(X_train, y_train)"
      ]
    },
    {
      "cell_type": "code",
      "execution_count": 19,
      "metadata": {
        "id": "NrQjzM48Mu4T"
      },
      "outputs": [],
      "source": [
        "# con nuestro vectorizador ya fiteado en train, vectorizamos los textos\n",
        "# del conjunto de test\n",
        "X_test = tfidfvect.transform(newsgroups_test.data)\n",
        "y_test = newsgroups_test.target\n",
        "y_pred =  clf.predict(X_test)"
      ]
    },
    {
      "cell_type": "code",
      "execution_count": 20,
      "metadata": {
        "colab": {
          "base_uri": "https://localhost:8080/"
        },
        "id": "UkGJhetEPdA4",
        "outputId": "b76e85b6-9589-4c27-88f9-779e52c15f08"
      },
      "outputs": [
        {
          "output_type": "execute_result",
          "data": {
            "text/plain": [
              "0.5854345727938506"
            ]
          },
          "metadata": {},
          "execution_count": 20
        }
      ],
      "source": [
        "# el F1-score es una metrica adecuada para reportar desempeño de modelos de claificación\n",
        "# es robusta al desbalance de clases. El promediado 'macro' es el promedio de los\n",
        "# F1-score de cada clase. El promedio 'micro' es equivalente a la accuracy que no\n",
        "# es una buena métrica cuando los datasets son desbalanceados\n",
        "f1_score(y_test, y_pred, average='macro')"
      ]
    },
    {
      "cell_type": "markdown",
      "metadata": {
        "id": "McArD4rSDR2K"
      },
      "source": [
        "### Consigna del desafío 1"
      ]
    },
    {
      "cell_type": "markdown",
      "metadata": {
        "id": "lJgf6GQIIEH1"
      },
      "source": [
        "**1**. Vectorizar documentos. Tomar 5 documentos al azar y medir similaridad con el resto de los documentos.\n",
        "Estudiar los 5 documentos más similares de cada uno analizar si tiene sentido\n",
        "la similaridad según el contenido del texto y la etiqueta de clasificación.\n",
        "\n",
        "**2**. Entrenar modelos de clasificación Naïve Bayes para maximizar el desempeño de clasificación\n",
        "(f1-score macro) en el conjunto de datos de test. Considerar cambiar parámteros\n",
        "de instanciación del vectorizador y los modelos y probar modelos de Naïve Bayes Multinomial\n",
        "y ComplementNB.\n",
        "\n",
        "**3**. Transponer la matriz documento-término. De esa manera se obtiene una matriz\n",
        "término-documento que puede ser interpretada como una colección de vectorización de palabras.\n",
        "Estudiar ahora similaridad entre palabras tomando 5 palabras y estudiando sus 5 más similares. **La elección de palabras no debe ser al azar para evitar la aparición de términos poco interpretables, elegirlas \"manualmente\"**.\n"
      ]
    },
    {
      "cell_type": "markdown",
      "metadata": {
        "id": "RT9buuAJp2O2"
      },
      "source": [
        "#### 1. Similaridad de Documentos"
      ]
    },
    {
      "cell_type": "code",
      "source": [
        "def get_similar_docs(idx):\n",
        "    # Medimos similaridad coseno entre el documento seleccionado y todos los demás\n",
        "    cossim = cosine_similarity(X_train[idx], X_train)[0]\n",
        "\n",
        "    # Obtenemos los índices de los 5 documentos más similares (excluyendo el mismo documento)\n",
        "    mostsim = np.argsort(cossim)[::-1][1:6]\n",
        "\n",
        "    # Mostramos info del documento seleccionado\n",
        "    print(f\"\\nDocumento original (ID: {idx} / Clase: {newsgroups_train.target_names[y_train[idx]]}):\")\n",
        "    print(f\"{newsgroups_train.data[idx][:500]}...\")  # Muestra un extracto del documento\n",
        "    print(\"\\n-----------------------------------\\n\")\n",
        "\n",
        "    # Mostramos info de los documentos similares encontrados\n",
        "    for i, sim_idx in enumerate(mostsim):\n",
        "        print(f\"Documento similar {i+1} (ID: {sim_idx} / Clase: {newsgroups_train.target_names[y_train[sim_idx]]}):\")\n",
        "        print(f\"{newsgroups_train.data[sim_idx][:500]}...\")  # Muestra un extracto del documento\n",
        "        print(\"\\n-----------------------------------\\n\")"
      ],
      "metadata": {
        "id": "p3NZp9popYqG"
      },
      "execution_count": 37,
      "outputs": []
    },
    {
      "cell_type": "code",
      "source": [
        "# Seleccionamos 5 documentos al azar\n",
        "random_indices = np.random.choice(X_train.shape[0], size=5, replace=False)\n",
        "print(random_indices)"
      ],
      "metadata": {
        "colab": {
          "base_uri": "https://localhost:8080/"
        },
        "id": "m4dULNkJjasU",
        "outputId": "f6a9ed60-4f42-44df-d526-269fa48ecde3"
      },
      "execution_count": 29,
      "outputs": [
        {
          "output_type": "stream",
          "name": "stdout",
          "text": [
            "[ 4714  2963 10743   552  5219]\n"
          ]
        }
      ]
    },
    {
      "cell_type": "code",
      "source": [
        "get_similar_docs(random_indices[0])"
      ],
      "metadata": {
        "colab": {
          "base_uri": "https://localhost:8080/"
        },
        "id": "8nMbItO4qcTE",
        "outputId": "e04a51c3-03c3-4618-b320-1a07f01891c1"
      },
      "execution_count": 38,
      "outputs": [
        {
          "output_type": "stream",
          "name": "stdout",
          "text": [
            "\n",
            "Documento original (ID: 4714 / Clase: rec.sport.hockey):\n",
            "from Anna Matyas:\n",
            "\n",
            "Yeah, and also be second in the team in scoring and play about 35\n",
            "minutes a game and play on the power play and kill penalties and be the\n",
            "best defenseman in the league. I'd take a whole team of Chelioses if I\n",
            "could. (That way, when one got a penalty the others could kill it!)...\n",
            "\n",
            "-----------------------------------\n",
            "\n",
            "Documento similar 1 (ID: 4541 / Clase: rec.sport.hockey):\n",
            "\n",
            "I've never seen a game where one player has committed 5\n",
            "penalties.  Something like this would require more attention by\n",
            "the referee.\n",
            "\n",
            "\n",
            "But you're creating a scoring opportunity where there might not\n",
            "have been one before.  I can see the relationship between free\n",
            "throws awarded after a certain number of fouls, but it's\n",
            "obviously easier to score in basketball, there are more\n",
            "opportunities.  If a basketball team scores 100 points, that's\n",
            "at least fifty chances made.  The average number of shots tak...\n",
            "\n",
            "-----------------------------------\n",
            "\n",
            "Documento similar 2 (ID: 2777 / Clase: rec.sport.hockey):\n",
            ": \n",
            ": Of course, penalties will have to be changed:\n",
            ": \n",
            ": Roughing:\tChauvanistic Males Being Aggressive\n",
            ": Slashing:\tChauvanistic Males Venting Frustration\n",
            ": Fighting:\tProof That Males Cannot Cope With Their Feelings\n",
            ": \n",
            "\n",
            "NO NO NO! since all the penalties fall into three classes, there should\n",
            "only be three penalties:\n",
            "\n",
            "1. Foul (Any illegal contact with the other player or his stick with your\n",
            "   body or stick). If you get 5 you are out for the game.\n",
            "\n",
            "2. Unsportsmanlike contact. (An intentional foul). ...\n",
            "\n",
            "-----------------------------------\n",
            "\n",
            "Documento similar 3 (ID: 3697 / Clase: rec.sport.hockey):\n",
            "The FLYERS team that can beat any team on any night showed up at the Spectrum\n",
            "Sunday night, and dominated the Maple Leafs thoroughly en route to a 4-0\n",
            "shutout. Tommy Soderstrom will get credit for the shutout, but he barely broke\n",
            "a sweat until the third period as the FLYERS defense kept the Leafs from\n",
            "mounting any serious attack.\n",
            "\n",
            "Injuries:\n",
            "\n",
            "Pelle Eklund is day-to-day with a bruised thigh.\n",
            "\n",
            "Roster Moves:\n",
            "\n",
            "Jason Bowen was added to the lineup for his first NHL game. Jason was the FLYERS\n",
            "second pic...\n",
            "\n",
            "-----------------------------------\n",
            "\n",
            "Documento similar 4 (ID: 2859 / Clase: rec.sport.hockey):\n",
            "The FLYERS blew a 3-0 lead over the Buffalo Sabres in the second period, but\n",
            "Kevin Dineen's 7th career hat trick powered them to their 7th consecutive win,\n",
            "7-4 over the Sabres who have now lost 7 in a row. Alexander Mogilny led the\n",
            "comeback scoring his 75th and 76th goals of the season which tied the game at\n",
            "3 in the 2nd period and 4 in the 3rd. Tommy Soderstrom stopped 41 of 45 shots\n",
            "on goal to improve his own record to 20-17-6 as he was tested by Mogilny and\n",
            "LaFontaine all night.\n",
            "\n",
            "Roster move:...\n",
            "\n",
            "-----------------------------------\n",
            "\n",
            "Documento similar 5 (ID: 9635 / Clase: rec.sport.hockey):\n",
            "Archive-name: hockey-faq\n",
            "\n",
            "rec.sport.hockey answers to Frequently Asked Questions and other news:\n",
            " \n",
            "Contents:\n",
            "\n",
            "0. New Info.\n",
            "1. NHL\n",
            "2. NHL Minor Leagues\n",
            "3. College Hockey (North America)\n",
            "4. Other leagues (e.g. Europe, Canada Cup tournament)\n",
            "5. E-mail files\n",
            "6. USENET Hockey Pool\n",
            "7. Up-coming Dates\n",
            "8. Answers to some frequently asked questions\n",
            "9. Miscellaneous\n",
            " \n",
            " Send comments, suggestions and criticisms regarding this FAQ list via e-\n",
            "mail to hamlet@u.washington.edu.\n",
            " \n",
            "------------------------------...\n",
            "\n",
            "-----------------------------------\n",
            "\n"
          ]
        }
      ]
    },
    {
      "cell_type": "code",
      "source": [
        "get_similar_docs(random_indices[1])"
      ],
      "metadata": {
        "colab": {
          "base_uri": "https://localhost:8080/"
        },
        "id": "F7bfuw8StXff",
        "outputId": "a968cc61-dcaa-4a50-d9ad-a93265006cea"
      },
      "execution_count": 39,
      "outputs": [
        {
          "output_type": "stream",
          "name": "stdout",
          "text": [
            "\n",
            "Documento original (ID: 2963 / Clase: sci.med):\n",
            "Probably within 50 years, a new type of eugenics will be possible.\n",
            "Maybe even sooner.  We are now mapping the human genome.  We will\n",
            "then start to work on manipulation of that genome.  Using genetic\n",
            "engineering, we will be able to insert whatever genes we want.\n",
            "No breeding, no \"hybrids\", etc.  The ethical question is, should\n",
            "we do this?  Should we make a race of disease-free, long-lived,\n",
            "Arnold Schwartzenegger-muscled, supermen?  Even if we can.\n",
            "\n",
            "\n",
            "\n",
            "-- \n",
            "-------------------------------------------...\n",
            "\n",
            "-----------------------------------\n",
            "\n",
            "Documento similar 1 (ID: 8550 / Clase: sci.med):\n",
            "\n",
            "\n",
            "So just what was it you wanted to say?\n",
            "\n",
            "\n",
            "\n",
            "-- \n",
            "----------------------------------------------------------------------------\n",
            "Gordon Banks  N3JXP      | \"Skepticism is the chastity of the intellect, and\n",
            "geb@cadre.dsl.pitt.edu   |  it is shameful to surrender it too soon.\" ...\n",
            "\n",
            "-----------------------------------\n",
            "\n",
            "Documento similar 2 (ID: 8660 / Clase: sci.med):\n",
            "\n",
            "\n",
            "By law, they would not be allowed to do that anyhow.\n",
            "\n",
            "\n",
            "\n",
            "\n",
            "-- \n",
            "----------------------------------------------------------------------------\n",
            "Gordon Banks  N3JXP      | \"Skepticism is the chastity of the intellect, and\n",
            "geb@cadre.dsl.pitt.edu   |  it is shameful to surrender it too soon.\" ...\n",
            "\n",
            "-----------------------------------\n",
            "\n",
            "Documento similar 3 (ID: 9307 / Clase: sci.med):\n",
            "Subject: Re: Eugenics\n",
            "/\n",
            ";Probably within 50 years, a new type of eugenics will be possible. \n",
            ";Maybe even sooner.  We are now mapping the human genome.  We will \n",
            ";then start to work on manipulation of that genome.  Using genetic\n",
            ";engineering, we will be able to insert whatever genes we want.\n",
            ";No breeding, no \"hybrids\", etc.  The ethical question is, should\n",
            ";we?\n",
            " \n",
            "Two past problems with eugenics have been \n",
            "1) reducing the gene pool and \n",
            "2) defining the status of the eugenized.\n",
            " \n",
            "Inserting genes wo...\n",
            "\n",
            "-----------------------------------\n",
            "\n",
            "Documento similar 4 (ID: 9124 / Clase: sci.med):\n",
            "\n",
            "\n",
            "There is no database for infantile spasms, nor a newsgroup, that I\n",
            "know of.  The medical library will be the best source of information\n",
            "for you.\n",
            "\n",
            "\n",
            "\n",
            "\n",
            "-- \n",
            "----------------------------------------------------------------------------\n",
            "Gordon Banks  N3JXP      | \"Skepticism is the chastity of the intellect, and\n",
            "geb@cadre.dsl.pitt.edu   |  it is shameful to surrender it too soon.\" ...\n",
            "\n",
            "-----------------------------------\n",
            "\n",
            "Documento similar 5 (ID: 2189 / Clase: sci.med):\n",
            "\n",
            "Senile keratoses.  Have nothing to do with the liver.\n",
            "\n",
            "\n",
            "-- \n",
            "----------------------------------------------------------------------------\n",
            "Gordon Banks  N3JXP      | \"Skepticism is the chastity of the intellect, and\n",
            "geb@cadre.dsl.pitt.edu   |  it is shameful to surrender it too soon.\" ...\n",
            "\n",
            "-----------------------------------\n",
            "\n"
          ]
        }
      ]
    },
    {
      "cell_type": "code",
      "source": [
        "get_similar_docs(random_indices[2])"
      ],
      "metadata": {
        "colab": {
          "base_uri": "https://localhost:8080/"
        },
        "id": "Y8JvUAXftn4_",
        "outputId": "52f8045c-be3d-4770-eca9-2467bce48638"
      },
      "execution_count": 40,
      "outputs": [
        {
          "output_type": "stream",
          "name": "stdout",
          "text": [
            "\n",
            "Documento original (ID: 10743 / Clase: misc.forsale):\n",
            "Hello,\n",
            "\n",
            "  I have three software packages for sale:\n",
            "\n",
            "  1. The Norton pcANYWHERE version 4.5 for dos. This software\n",
            "     include host and remote software. It can control both\n",
            "     dos and windows 3.1 (both standard and enhanced modes)\n",
            "     activities. Registration card is enclosed.\n",
            "\n",
            "     Price: $40.00\n",
            "\n",
            "  2. The Norton AntiVirus for windows and dos version 2.1. It\n",
            "     can update virus information any time. It also support\n",
            "     networks. Registration card is enclosed.\n",
            "\n",
            "     Price: $40.00\n",
            "\n",
            "  3. Delt...\n",
            "\n",
            "-----------------------------------\n",
            "\n",
            "Documento similar 1 (ID: 1584 / Clase: misc.forsale):\n",
            "I'm looking to find some people interested in getting some cd-rom's. Below\n",
            "is a list with their prices. If you are interested in any of these, send me\n",
            "some mail and I can guarantee this price. If you are not local their will be\n",
            "a shipping cost, and cod cost if you prefer it to be shipped that way.\n",
            "Marcus\n",
            "\n",
            "Updated prices from last post.\n",
            "\n",
            "      \n",
            "American Business Phonebook             DOS             $20.00\n",
            "Animals                                 DOS             $30.00\n",
            "Animals                     ...\n",
            "\n",
            "-----------------------------------\n",
            "\n",
            "Documento similar 2 (ID: 6759 / Clase: misc.forsale):\n",
            "I'm looking to find some people interested in getting some cd-rom's. Below\n",
            "is a list with their prices. If you are interested in any of these, send me\n",
            "some mail and I can guarantee this price. If you are not local their will be\n",
            "a shipping cost, and cod cost if you prefer it to be shipped that way.\n",
            "Marcus\n",
            "\n",
            "\n",
            "American Business Phonebook             DOS             $20.00\n",
            "Animals                                 DOS             $30.00\n",
            "Animals                                 MPC             $30.00\n",
            "Aud...\n",
            "\n",
            "-----------------------------------\n",
            "\n",
            "Documento similar 3 (ID: 769 / Clase: misc.forsale):\n",
            "Help me make money for a new modem\n",
            "                         $180.00 takes it ALL\n",
            "\n",
            "              ***** SHIPPING NOT INCLUDED IN PRICE *****\n",
            "\n",
            "  *   All original documentation & disks are include.\n",
            "      Some software unregistered, others will have letter for transfer\n",
            "      of ownership.\n",
            "\n",
            "  *   Will sell software seperately, purchase must be greater than\n",
            "      $30.00.\n",
            "\n",
            "  *   Purchases over $60.00 get choice of two (2) software selections\n",
            "      with \"*\" footnote\n",
            "\n",
            "  W - Windows 3.x version\n",
            "  D - DOS v...\n",
            "\n",
            "-----------------------------------\n",
            "\n",
            "Documento similar 4 (ID: 4352 / Clase: rec.sport.baseball):\n",
            "MLB Standings and Scores for Tuesday, April 6th, 1993\n",
            "\t                 (including yesterday's games)\n",
            "\n",
            "NATIONAL WEST\t      Won  Lost   Pct.    GB   Last 10   Streak    Home   Road\n",
            "Atlanta Braves         01   00   1.000    --     1-0      Won 1   00-00  01-00\n",
            "Cincinnati Reds        01   00   1.000    --     1-0      Won 1   01-00  00-00\n",
            "San Diego Padres       00   00    .000   0.5     0-0       ---    00-00  00-00\n",
            "San Francisco Giants   00   00    .000   0.5     0-0       ---    00-00  00-00\n",
            "Colo...\n",
            "\n",
            "-----------------------------------\n",
            "\n",
            "Documento similar 5 (ID: 4796 / Clase: misc.forsale):\n",
            "ITEMS FOR SALE - PRICE LISTED OR BEST OFFER!!!!!!!\n",
            "\n",
            "KFC SVGA Monitor 1024X768 .28DP Non-interlaced 14\" \n",
            "Screen, still under warranty! (Brand New)          $ 290.00\n",
            "\n",
            "1200 Baud Compuadd Modem Box/docs/software         $  20.00\n",
            "\n",
            "CGA Monitor with Cga/Parallel Card                 $  30.00\n",
            "\n",
            "SCO UNIX V3.2.2 Unlimited User OS, has the base\n",
            "and extended Utilities, and UUCP                   $ 150.00\n",
            "\n",
            "Turbo C/Turbo C++ The complete reference book.     $  15.00\n",
            "\n",
            "Serial I/O Card  1 serial Port             ...\n",
            "\n",
            "-----------------------------------\n",
            "\n"
          ]
        }
      ]
    },
    {
      "cell_type": "code",
      "source": [
        "get_similar_docs(random_indices[3])"
      ],
      "metadata": {
        "colab": {
          "base_uri": "https://localhost:8080/"
        },
        "id": "ZYcer-aUt3na",
        "outputId": "1fe3c17d-9599-408c-bdbe-6535da2af913"
      },
      "execution_count": 41,
      "outputs": [
        {
          "output_type": "stream",
          "name": "stdout",
          "text": [
            "\n",
            "Documento original (ID: 552 / Clase: comp.graphics):\n",
            "Toronto Siggraph \n",
            "================\n",
            "\n",
            "What: ``Chance's Art'': 2D Graphics and Animation on the Indigo.\n",
            "\n",
            "By:    Ken Evans, Imagicians Artware, Inc. \n",
            "\n",
            "When:  Tuesday 20 April 1993 7:00pm-9:00pm \n",
            "\n",
            "Where: The McLuhan Centre for Culture and Technology\n",
            "       University of Toronto\n",
            "       39A Queen's Park Crescent\n",
            "       Toronto\n",
            "\n",
            "Who:   Members and non-members alike \n",
            "       (non-members encouraged to become members...)\n",
            "\n",
            "Abstract:\n",
            "\n",
            "Imagicians Artware, Inc. is entering into early beta site testing on Silic...\n",
            "\n",
            "-----------------------------------\n",
            "\n",
            "Documento similar 1 (ID: 5856 / Clase: sci.crypt):\n",
            "\n",
            "Thanks for posting this and making it available. This post will be LONG, I will\n",
            "comment on most of it, and am reluctantly leaving all of the original in place\n",
            "to provide context.\n",
            "\n",
            "Please note that an alt. group has been set up for the Clipper stuff.\n",
            "\n",
            "                                                     ^^^^^^^^^\n",
            "Hum, AT&T, VLSI and Mykotronx are 'industry'?\n",
            "Wonder what happened to IBM, this should be right up their street.\n",
            "And a mandateed scheme is voluntary? Mr Orwell would love this.\n",
            "\n",
            "       ...\n",
            "\n",
            "-----------------------------------\n",
            "\n",
            "Documento similar 2 (ID: 913 / Clase: alt.atheism):\n",
            "The recent rise of nostalgia in this group, combined with the\n",
            "  incredible level of utter bullshit, has prompted me to comb\n",
            "  through my archives and pull out some of \"The Best of Alt.Atheism\"\n",
            "  for your reading pleasure.  I'll post a couple of these a day\n",
            "  unless group concensus demands that I stop, or I run out of good\n",
            "  material.\n",
            "\n",
            "  I haven't been particularly careful in the past about saving\n",
            "  attributions.  I think the following comes from John A. Johnson,\n",
            "  but someone correct me if I'm w...\n",
            "\n",
            "-----------------------------------\n",
            "\n",
            "Documento similar 3 (ID: 6719 / Clase: comp.graphics):\n",
            "Archive-name: graphics/resources-list/part3\n",
            "Last-modified: 1993/04/17\n",
            "\n",
            "\n",
            "Computer Graphics Resource Listing : WEEKLY POSTING [ PART 3/3 ]\n",
            "===================================================\n",
            "Last Change : 17 April 1993\n",
            "\n",
            "\n",
            "11. Scene generators/geographical data/Maps/Data files\n",
            "======================================================\n",
            "\n",
            "DEMs (Digital Elevation Models)\n",
            "-------------------------------\n",
            "  DEMs (Digital Elevation Models) as well as other cartographic data\n",
            "  [huge] is available from spectrum.x...\n",
            "\n",
            "-----------------------------------\n",
            "\n",
            "Documento similar 4 (ID: 9007 / Clase: sci.crypt):\n",
            "I saw this article posted in a local newsgroup.  I haven't seen it,\n",
            "or any followup traffic relating to it in these groups or other groups\n",
            "which I subscribe to.  So, I am posting it here so others can read it,\n",
            "check it out, and comment on it, and provide ideas for handling these\n",
            "sorts of things.\n",
            "\n",
            "I have no verification to the accuracy or lack of accuracy of this\n",
            "article, but if accurate, I find it extremely disturbing, especially in\n",
            "light of various abuses of the SSN number regarding privacy, (I...\n",
            "\n",
            "-----------------------------------\n",
            "\n",
            "Documento similar 5 (ID: 6635 / Clase: talk.politics.misc):\n",
            "THE WHITE HOUSE\n",
            "\n",
            "                    Office of the Press Secretary\n",
            "______________________________________________________________\n",
            "For Immediate Release                             April 15, 1993     \n",
            "\n",
            "\t     \n",
            "                       REMARKS BY THE PRESIDENT\n",
            "                   TO LAW ENFORCEMENT ORGANIZATIONS\n",
            "\t     \n",
            "\t     \n",
            "                           The Rose Garden \n",
            "\n",
            "\n",
            "2:52 P.M. EDT\n",
            "\n",
            "\n",
            "\t     THE PRESIDENT:  Good afternoon.  Ladies and gentlemen, \n",
            "two months ago I presented a comprehensive plan to red...\n",
            "\n",
            "-----------------------------------\n",
            "\n"
          ]
        }
      ]
    },
    {
      "cell_type": "code",
      "source": [
        "get_similar_docs(random_indices[4])"
      ],
      "metadata": {
        "colab": {
          "base_uri": "https://localhost:8080/"
        },
        "id": "DjxKhd20t37l",
        "outputId": "8d9e521f-b6ca-4c06-cdd7-fb4340b72377"
      },
      "execution_count": 42,
      "outputs": [
        {
          "output_type": "stream",
          "name": "stdout",
          "text": [
            "\n",
            "Documento original (ID: 5219 / Clase: comp.windows.x):\n",
            "\n",
            "Here I am!!\n",
            "\n",
            "-------------------------------------------------------------------------\n",
            "David Smyth\t\t\t\tdavid@jpl-devvax.jpl.nasa.gov\n",
            "Senior Software Engineer,\t\t(818)306-6463 (temp! do NOT use v-mail)\n",
            "X and Object Guru.\t\t\ttempory office: 525/B70\n",
            "Jet Propulsion Lab, M/S 525-3660 4800 Oak Grove Drive, Pasadena, CA 91109\n",
            "------------------------------------------------------------------------- \n",
            " What's the earliest possible date you can't prove it won't be done by?\n",
            "\t\t\t\t\t- Tom DeMarco...\n",
            "\n",
            "-----------------------------------\n",
            "\n",
            "Documento similar 1 (ID: 6047 / Clase: comp.windows.x):\n",
            "\n",
            "Is this an advantage to MS Windows or to Xt?  I used to think it\n",
            "was a big advantage for Xt, but I am not at all sure anymore...\n",
            "\n",
            "-------------------------------------------------------------------------\n",
            "David Smyth\t\t\t\tdavid@jpl-devvax.jpl.nasa.gov\n",
            "Senior Software Engineer,\t\t(818)306-6463 (temp! do NOT use v-mail)\n",
            "X and Object Guru.\t\t\ttempory office: 525/B70\n",
            "Jet Propulsion Lab, M/S 525-3660 4800 Oak Grove Drive, Pasadena, CA 91109\n",
            "----------------------------------------------------------------...\n",
            "\n",
            "-----------------------------------\n",
            "\n",
            "Documento similar 2 (ID: 1919 / Clase: rec.sport.hockey):\n",
            "David\n",
            "\n",
            "\n",
            "...\n",
            "\n",
            "-----------------------------------\n",
            "\n",
            "Documento similar 3 (ID: 9232 / Clase: sci.space):\n",
            "==========================\n",
            "                               OZONE GIF IMAGES\n",
            "                                April 15, 1993\n",
            "                         ==========================\n",
            "\n",
            "     Two GIF images of the ozone maps over the northern and southern\n",
            "hemispheres are now available at the JPL Info public access site.  These maps\n",
            "were produced by the Microwave Limb Sounder aboard the Upper Atmosphere\n",
            "Research Satellite (UARS), and are courtesy of the Public Information Office\n",
            "at JPL.  Note that the images...\n",
            "\n",
            "-----------------------------------\n",
            "\n",
            "Documento similar 4 (ID: 3766 / Clase: sci.space):\n",
            "In <19APR199320262420@kelvin.jpl.nasa.gov> baalke@kelvin.jpl.nasa.gov \n",
            "\n",
            "Sorry I think I missed a bit of info on this Transition Experiment. What is it?\n",
            "\n",
            "Will this mean a loss of data or will the Magellan transmit data later on ??\n",
            "\n",
            "BTW: When will NASA cut off the connection with Magellan?? Not that I am\n",
            "looking forward to that day but I am just curious. I believe it had something\n",
            "to do with the funding from the goverment (or rather _NO_ funding :-)\n",
            "\n",
            "ok that's it for now. See you guys around,\n",
            "Jurr...\n",
            "\n",
            "-----------------------------------\n",
            "\n",
            "Documento similar 5 (ID: 4425 / Clase: sci.space):\n",
            "Archive-name: space/addresses\n",
            "Last-modified: $Date: 93/04/01 14:38:55 $\n",
            "\n",
            "CONTACTING NASA, ESA, AND OTHER SPACE AGENCIES/COMPANIES\n",
            "\n",
            "Many space activities center around large Government or International\n",
            "Bureaucracies.\tIn the US that means NASA.  If you have basic information\n",
            "requests: (e.g., general PR info, research grants, data, limited tours, and\n",
            "ESPECIALLY SUMMER EMPLOYMENT (typically resumes should be ready by Jan.  1),\n",
            "etc.), consider contacting the nearest NASA Center to answer your questio...\n",
            "\n",
            "-----------------------------------\n",
            "\n"
          ]
        }
      ]
    },
    {
      "cell_type": "markdown",
      "source": [
        "El análisis de similaridad coseno mostró que los documentos más similares suelen pertenecer a la misma categoría, lo que indica que la vectorización captura bien las características distintivas de cada grupo. No obstante, en algunos casos, la similaridad fue alta entre documentos de categorías diferentes, lo que sugiere que la métrica puede verse influenciada por términos comunes sin considerar completamente el contexto. En general, la técnica es efectiva, pero tiene limitaciones en la detección de matices semánticos más profundos."
      ],
      "metadata": {
        "id": "hoTmRQVMzd1j"
      }
    },
    {
      "cell_type": "markdown",
      "source": [
        "#### 2. Entrenamiento de Modelos de Naïve Bayes"
      ],
      "metadata": {
        "id": "wtdkDB2sjb36"
      }
    },
    {
      "cell_type": "code",
      "source": [
        "# Diferentes configuraciones del vectorizador\n",
        "vectorizers = [\n",
        "    TfidfVectorizer(ngram_range=(1, 1), stop_words='english'),\n",
        "    TfidfVectorizer(ngram_range=(1, 2), stop_words='english'),\n",
        "    TfidfVectorizer(ngram_range=(2, 2), stop_words='english'),\n",
        "    TfidfVectorizer(ngram_range=(1, 3), stop_words='english')\n",
        "]"
      ],
      "metadata": {
        "id": "W51CrOTK3Hhh"
      },
      "execution_count": 61,
      "outputs": []
    },
    {
      "cell_type": "code",
      "source": [
        "# Diferentes configuraciones del modelo de Naïve Bayes\n",
        "models = [\n",
        "    MultinomialNB(alpha=1.0),\n",
        "    MultinomialNB(alpha=0.5),\n",
        "    ComplementNB(alpha=1.0),\n",
        "    ComplementNB(alpha=0.5)\n",
        "]"
      ],
      "metadata": {
        "id": "GoyKj_bH3I19"
      },
      "execution_count": 62,
      "outputs": []
    },
    {
      "cell_type": "code",
      "source": [
        "best_score = 0\n",
        "best_model = None\n",
        "best_vectorizer = None\n",
        "\n",
        "# Iteramos sobre todas las combinaciones de vectorizadores y modelos\n",
        "for vectorizer in vectorizers:\n",
        "    # Vectorizamos los datos de entrenamiento y test\n",
        "    X_train_vect = vectorizer.fit_transform(newsgroups_train.data)\n",
        "    X_test_vect = vectorizer.transform(newsgroups_test.data)\n",
        "\n",
        "    for model in models:\n",
        "        # Entrenamos el modelo\n",
        "        model.fit(X_train_vect, newsgroups_train.target)\n",
        "\n",
        "        # Predecimos sobre el conjunto de test\n",
        "        y_pred = model.predict(X_test_vect)\n",
        "\n",
        "        # Calculamos el f1-score macro\n",
        "        score = f1_score(newsgroups_test.target, y_pred, average='macro')\n",
        "        print(f\"Vectorizer: TfidfVectorizer con ngram_range {vectorizer.ngram_range}, Model: {type(model).__name__} con alpha {model.alpha}, F1-score (macro): {score:.4f}\")\n",
        "\n",
        "        # Guardamos el mejor modelo y configuración\n",
        "        if score > best_score:\n",
        "            best_score = score\n",
        "            best_model = model\n",
        "            best_vectorizer = vectorizer\n",
        "\n",
        "print(f\"\\nMejor F1-score (macro): {best_score:.4f}\")\n",
        "print(f\"Mejor Vectorizador: TfidfVectorizer con ngram_range {best_vectorizer.ngram_range}\")\n",
        "print(f\"Mejor Modelo: {type(best_model).__name__} con alpha {best_model.alpha}\")"
      ],
      "metadata": {
        "colab": {
          "base_uri": "https://localhost:8080/"
        },
        "id": "432hZf_hjv6K",
        "outputId": "14ea4be0-a641-435e-e3a4-25c1ea6655b8"
      },
      "execution_count": 63,
      "outputs": [
        {
          "output_type": "stream",
          "name": "stdout",
          "text": [
            "Vectorizer: TfidfVectorizer con ngram_range (1, 1), Model: MultinomialNB con alpha 1.0, F1-score (macro): 0.6468\n",
            "Vectorizer: TfidfVectorizer con ngram_range (1, 1), Model: MultinomialNB con alpha 0.5, F1-score (macro): 0.6584\n",
            "Vectorizer: TfidfVectorizer con ngram_range (1, 1), Model: ComplementNB con alpha 1.0, F1-score (macro): 0.6936\n",
            "Vectorizer: TfidfVectorizer con ngram_range (1, 1), Model: ComplementNB con alpha 0.5, F1-score (macro): 0.6978\n",
            "Vectorizer: TfidfVectorizer con ngram_range (1, 2), Model: MultinomialNB con alpha 1.0, F1-score (macro): 0.6425\n",
            "Vectorizer: TfidfVectorizer con ngram_range (1, 2), Model: MultinomialNB con alpha 0.5, F1-score (macro): 0.6545\n",
            "Vectorizer: TfidfVectorizer con ngram_range (1, 2), Model: ComplementNB con alpha 1.0, F1-score (macro): 0.7039\n",
            "Vectorizer: TfidfVectorizer con ngram_range (1, 2), Model: ComplementNB con alpha 0.5, F1-score (macro): 0.7105\n",
            "Vectorizer: TfidfVectorizer con ngram_range (2, 2), Model: MultinomialNB con alpha 1.0, F1-score (macro): 0.4990\n",
            "Vectorizer: TfidfVectorizer con ngram_range (2, 2), Model: MultinomialNB con alpha 0.5, F1-score (macro): 0.5169\n",
            "Vectorizer: TfidfVectorizer con ngram_range (2, 2), Model: ComplementNB con alpha 1.0, F1-score (macro): 0.5578\n",
            "Vectorizer: TfidfVectorizer con ngram_range (2, 2), Model: ComplementNB con alpha 0.5, F1-score (macro): 0.5678\n",
            "Vectorizer: TfidfVectorizer con ngram_range (1, 3), Model: MultinomialNB con alpha 1.0, F1-score (macro): 0.6381\n",
            "Vectorizer: TfidfVectorizer con ngram_range (1, 3), Model: MultinomialNB con alpha 0.5, F1-score (macro): 0.6511\n",
            "Vectorizer: TfidfVectorizer con ngram_range (1, 3), Model: ComplementNB con alpha 1.0, F1-score (macro): 0.6996\n",
            "Vectorizer: TfidfVectorizer con ngram_range (1, 3), Model: ComplementNB con alpha 0.5, F1-score (macro): 0.7073\n",
            "\n",
            "Mejor F1-score (macro): 0.7105\n",
            "Mejor Vectorizador: TfidfVectorizer con ngram_range (1, 2)\n",
            "Mejor Modelo: ComplementNB con alpha 0.5\n"
          ]
        }
      ]
    },
    {
      "cell_type": "markdown",
      "source": [
        "#### 3. Similaridad entre Palabras"
      ],
      "metadata": {
        "id": "Bke4qV-4jwbd"
      }
    },
    {
      "cell_type": "code",
      "source": [
        "# Transponemos la matriz documento-término para obtener la matriz término-documento\n",
        "X_train_transposed = X_train.T\n",
        "\n",
        "# Creamos un diccionario para mapear índices a palabras\n",
        "idx2word = {v: k for k, v in tfidfvect.vocabulary_.items()}\n",
        "\n",
        "# Seleccionamos 5 palabras para estudiar su similaridad\n",
        "selected_words = ['football', 'food', 'science', 'religion', 'queen']\n",
        "selected_word_indices = [tfidfvect.vocabulary_[word] for word in selected_words]\n",
        "\n",
        "# Calculamos la similaridad entre las palabras seleccionadas y todas las demás palabras\n",
        "for word_idx in selected_word_indices:\n",
        "    cossim = cosine_similarity(X_train_transposed[word_idx], X_train_transposed)[0]\n",
        "\n",
        "    # Obtener los índices de las 5 palabras más similares (excluyendo la misma palabra)\n",
        "    most_similar = np.argsort(cossim)[::-1][1:6]\n",
        "\n",
        "    print(f\"\\nPalabra original: {idx2word[word_idx]}\")\n",
        "    for i, sim_idx in enumerate(most_similar):\n",
        "        print(f\"Palabra similar {i+1}: {idx2word[sim_idx]} (similaridad: {cossim[sim_idx]:.4f})\")"
      ],
      "metadata": {
        "colab": {
          "base_uri": "https://localhost:8080/"
        },
        "id": "0xbDGr5Fj1DY",
        "outputId": "f7afabbe-4953-4983-8ca4-3c018c2afbc8"
      },
      "execution_count": 95,
      "outputs": [
        {
          "output_type": "stream",
          "name": "stdout",
          "text": [
            "\n",
            "Palabra original: football\n",
            "Palabra similar 1: madden (similaridad: 0.3741)\n",
            "Palabra similar 2: palying (similaridad: 0.3342)\n",
            "Palabra similar 3: zabriskie (similaridad: 0.3256)\n",
            "Palabra similar 4: sportstalk (similaridad: 0.3173)\n",
            "Palabra similar 5: basketball (similaridad: 0.2896)\n",
            "\n",
            "Palabra original: food\n",
            "Palabra similar 1: msg (similaridad: 0.4403)\n",
            "Palabra similar 2: eat (similaridad: 0.3300)\n",
            "Palabra similar 3: chinese (similaridad: 0.3057)\n",
            "Palabra similar 4: flavor (similaridad: 0.3011)\n",
            "Palabra similar 5: arghhhhhhhhhh (similaridad: 0.2980)\n",
            "\n",
            "Palabra original: science\n",
            "Palabra similar 1: behaviorists (similaridad: 0.3948)\n",
            "Palabra similar 2: cognitivists (similaridad: 0.3948)\n",
            "Palabra similar 3: scientific (similaridad: 0.3466)\n",
            "Palabra similar 4: empirical (similaridad: 0.2810)\n",
            "Palabra similar 5: sects (similaridad: 0.2622)\n",
            "\n",
            "Palabra original: religion\n",
            "Palabra similar 1: religious (similaridad: 0.2451)\n",
            "Palabra similar 2: religions (similaridad: 0.2116)\n",
            "Palabra similar 3: categorized (similaridad: 0.2039)\n",
            "Palabra similar 4: purpsoe (similaridad: 0.2008)\n",
            "Palabra similar 5: crusades (similaridad: 0.1987)\n",
            "\n",
            "Palabra original: queen\n",
            "Palabra similar 1: estefan (similaridad: 0.4847)\n",
            "Palabra similar 2: gloria (similaridad: 0.4847)\n",
            "Palabra similar 3: mariah (similaridad: 0.4847)\n",
            "Palabra similar 4: carey (similaridad: 0.4752)\n",
            "Palabra similar 5: dresser (similaridad: 0.4335)\n"
          ]
        }
      ]
    },
    {
      "cell_type": "markdown",
      "source": [
        "El análisis de similaridad coseno entre palabras reveló patrones interesantes:\n",
        "\n",
        "- football: Palabras similares como madden y basketball están relacionadas con el ámbito deportivo.\n",
        "\n",
        "- food: Se capturan términos relevantes en el contexto de la comida como eat, chinese y flavor.\n",
        "\n",
        "- science: Las palabras más similares, como behaviorists y cognitivists, están relacionadas con campos científicos.\n",
        "\n",
        "- religion: Las palabras similares como religious y crusades están vinculadas temáticamente.\n",
        "\n",
        "- queen: Los resultados incluyen palabras no intuitivamente relacionadas, en este caso nombres de cantantes, que dependen mucho del contexto en que se utilizan.\n",
        "\n",
        "En general, la técnica de similaridad coseno proporciona una visión útil de las relaciones semánticas entre palabras, aunque los resultados pueden variar en términos de relevancia directa y contexto, destacando la importancia de considerar el contexto en el análisis."
      ],
      "metadata": {
        "id": "btQA1ZRH_DF_"
      }
    }
  ],
  "metadata": {
    "colab": {
      "provenance": [],
      "toc_visible": true
    },
    "kernelspec": {
      "display_name": "Python 3",
      "name": "python3"
    },
    "language_info": {
      "name": "python"
    }
  },
  "nbformat": 4,
  "nbformat_minor": 0
}